{
 "cells": [
  {
   "attachments": {},
   "cell_type": "markdown",
   "metadata": {},
   "source": [
    "## Preparacion del dataset\n",
    "\n",
    "Del estudio realizado en el [Data-analisis](data-analisis.ipynb)  se obtiene que los parametros importantes para modelar son: 'Species', 'Light_ISF', 'Soil', 'Sterile', 'Conspecific', 'AMF', 'EMF', 'Phenolics', 'Lignin', 'NSC' y 'Event', siendo este ultimo el target."
   ]
  },
  {
   "cell_type": "code",
   "execution_count": 1,
   "metadata": {},
   "outputs": [],
   "source": [
    "import pandas as pd\n",
    "\n",
    "dataset = pd.read_csv(\"../dataset/Tree_Data.csv\")"
   ]
  },
  {
   "cell_type": "code",
   "execution_count": 3,
   "metadata": {},
   "outputs": [
    {
     "name": "stdout",
     "output_type": "stream",
     "text": [
      "<class 'pandas.core.frame.DataFrame'>\n",
      "RangeIndex: 2783 entries, 0 to 2782\n",
      "Data columns (total 11 columns):\n",
      " #   Column       Non-Null Count  Dtype  \n",
      "---  ------       --------------  -----  \n",
      " 0   Species      2783 non-null   object \n",
      " 1   Light_ISF    2783 non-null   float64\n",
      " 2   Soil         2783 non-null   object \n",
      " 3   Sterile      2783 non-null   object \n",
      " 4   Conspecific  2783 non-null   object \n",
      " 5   AMF          2783 non-null   float64\n",
      " 6   EMF          1283 non-null   float64\n",
      " 7   Phenolics    2783 non-null   float64\n",
      " 8   Lignin       2783 non-null   float64\n",
      " 9   NSC          2783 non-null   float64\n",
      " 10  Event        2782 non-null   float64\n",
      "dtypes: float64(7), object(4)\n",
      "memory usage: 239.3+ KB\n"
     ]
    }
   ],
   "source": [
    "dataset_modif = dataset[['Species', 'Light_ISF', 'Soil', 'Sterile', 'Conspecific', 'AMF', 'EMF', 'Phenolics', 'Lignin', 'NSC', 'Event']]\n",
    "\n",
    "dataset_modif.info()"
   ]
  },
  {
   "cell_type": "code",
   "execution_count": 4,
   "metadata": {},
   "outputs": [],
   "source": [
    "# Un solo Event es null, lo elimino\n",
    "dataset_modif = dataset.dropna(subset=[\"Event\"])"
   ]
  }
 ],
 "metadata": {
  "kernelspec": {
   "display_name": "ent-model-cre",
   "language": "python",
   "name": "python3"
  },
  "language_info": {
   "codemirror_mode": {
    "name": "ipython",
    "version": 3
   },
   "file_extension": ".py",
   "mimetype": "text/x-python",
   "name": "python",
   "nbconvert_exporter": "python",
   "pygments_lexer": "ipython3",
   "version": "3.9.11"
  },
  "orig_nbformat": 4
 },
 "nbformat": 4,
 "nbformat_minor": 2
}
